{
  "nbformat": 4,
  "nbformat_minor": 0,
  "metadata": {
    "colab": {
      "provenance": [],
      "authorship_tag": "ABX9TyPcMWlvyC9WqFCmlz2Du48b",
      "include_colab_link": true
    },
    "kernelspec": {
      "name": "python3",
      "display_name": "Python 3"
    },
    "language_info": {
      "name": "python"
    }
  },
  "cells": [
    {
      "cell_type": "markdown",
      "metadata": {
        "id": "view-in-github",
        "colab_type": "text"
      },
      "source": [
        "<a href=\"https://colab.research.google.com/github/giovanigoltara/house-music-story/blob/main/DISCOGS_extraction.ipynb\" target=\"_parent\"><img src=\"https://colab.research.google.com/assets/colab-badge.svg\" alt=\"Open In Colab\"/></a>"
      ]
    },
    {
      "cell_type": "code",
      "execution_count": null,
      "metadata": {
        "id": "f5iWy9F6bM7J"
      },
      "outputs": [],
      "source": [
        "# To mount drive where files are stored\n",
        "from google.colab import drive\n",
        "drive.mount('/content/drive')"
      ]
    },
    {
      "cell_type": "code",
      "source": [
        "# To check the content of the xml file\n",
        "import gzip\n",
        "\n",
        "file_path = \"/content/drive/MyDrive/DISCOGS/discogs_20250601_releases.xml.gz\"\n",
        "\n",
        "with gzip.open(file_path, 'rt', encoding='utf-8') as f:\n",
        "    for i in range(20):\n",
        "        print(f.readline())"
      ],
      "metadata": {
        "id": "gE4Kxk4v5XCJ"
      },
      "execution_count": null,
      "outputs": []
    },
    {
      "cell_type": "code",
      "source": [
        "# To extract the desired data frame from xml file filtering for House Music and keeping only desired fields\n",
        "import xml.etree.ElementTree as ET\n",
        "import pandas as pd\n",
        "import csv\n",
        "\n",
        "\n",
        "# File paths\n",
        "input_file = '/content/drive/MyDrive/DISCOGS/discogs_20250601_releases.xml.gz'\n",
        "output_file = '/content/drive/MyDrive/DISCOGS/house_music_releases_02.csv'\n",
        "\n",
        "# Initialize CSV with header\n",
        "columns = ['id', 'title', 'year', 'country', 'styles', 'genres', 'label']\n",
        "with open(output_file, mode='w', newline='', encoding='utf-8') as f:\n",
        "    writer = csv.DictWriter(f, fieldnames=columns)\n",
        "    writer.writeheader()\n",
        "\n",
        "# Stream and parse the XML\n",
        "with gzip.open(input_file, 'rb') as f:\n",
        "    context = ET.iterparse(f, events=('end',))\n",
        "    for i, (event, elem) in enumerate(context):\n",
        "        if elem.tag == 'release':\n",
        "            try:\n",
        "                genre_tags = [g.text for g in elem.findall('./genres/genre')]\n",
        "                style_tags = [s.text for s in elem.findall('./styles/style')]\n",
        "\n",
        "                if 'Electronic' in genre_tags and any('House' in (s or '') for s in style_tags):\n",
        "                    release_id = elem.attrib.get('id')\n",
        "                    title = elem.findtext('title')\n",
        "                    year = elem.findtext('released')\n",
        "                    country = elem.findtext('country')\n",
        "                    styles = ', '.join(style_tags)\n",
        "                    genres = ', '.join(genre_tags)\n",
        "                    label_elem = elem.find('./labels/label')\n",
        "                    label = label_elem.attrib.get('name') if label_elem is not None else None\n",
        "\n",
        "                    # Append row to CSV\n",
        "                    with open(output_file, mode='a', newline='', encoding='utf-8') as out_f:\n",
        "                        writer = csv.DictWriter(out_f, fieldnames=columns)\n",
        "                        writer.writerow({\n",
        "                            'id': release_id,\n",
        "                            'title': title,\n",
        "                            'year': year,\n",
        "                            'country': country,\n",
        "                            'styles': styles,\n",
        "                            'genres': genres,\n",
        "                            'label': label\n",
        "                        })\n",
        "            except Exception as e:\n",
        "                print(f\"⚠️ Skipping record due to error: {e}\")\n",
        "            finally:\n",
        "                elem.clear()\n",
        "\n",
        "        if i % 500 == 0:\n",
        "            print(f\"Processed {i} records...\")\n",
        "\n",
        "print(\"Extraction complete. File saved to Google Drive.\")"
      ],
      "metadata": {
        "id": "xVzPajDyBJ6A"
      },
      "execution_count": null,
      "outputs": []
    },
    {
      "cell_type": "code",
      "source": [
        "# To extract Master Releases data fram from xml file\n",
        "\n",
        "# File paths\n",
        "input_file = '/content/drive/MyDrive/DISCOGS/discogs_20250601_masters.xml.gz'\n",
        "output_file = '/content/drive/MyDrive/DISCOGS/master_releases.csv'\n",
        "\n",
        "# Initialize CSV with header\n",
        "columns = ['id', 'title', 'year', 'genres', 'styles']\n",
        "with open(output_file, mode='w', newline='', encoding='utf-8') as f:\n",
        "    writer = csv.DictWriter(f, fieldnames=columns)\n",
        "    writer.writeheader()\n",
        "\n",
        "# Stream and parse the XML\n",
        "with gzip.open(input_file, 'rb') as f:\n",
        "    context = ET.iterparse(f, events=('end',))\n",
        "    for i, (event, elem) in enumerate(context):\n",
        "        if elem.tag == 'master':\n",
        "            try:\n",
        "                genre_tags = [g.text for g in elem.findall('./genres/genre')]\n",
        "                style_tags = [s.text for s in elem.findall('./styles/style')]\n",
        "\n",
        "                # Filter for House music\n",
        "                if 'Electronic' in genre_tags and any('House' in (s or '') for s in style_tags):\n",
        "                    master_id = elem.attrib.get('id')\n",
        "                    title = elem.findtext('title')\n",
        "                    year = elem.findtext('year')\n",
        "                    genres = ', '.join(genre_tags)\n",
        "                    styles = ', '.join(style_tags)\n",
        "\n",
        "                    # Append row to CSV\n",
        "                    with open(output_file, mode='a', newline='', encoding='utf-8') as out_f:\n",
        "                        writer = csv.DictWriter(out_f, fieldnames=columns)\n",
        "                        writer.writerow({\n",
        "                            'id': master_id,\n",
        "                            'title': title,\n",
        "                            'year': year,\n",
        "                            'genres': genres,\n",
        "                            'styles': styles\n",
        "                        })\n",
        "            except Exception as e:\n",
        "                print(f\"⚠️ Skipping record due to error: {e}\")\n",
        "            finally:\n",
        "                elem.clear()\n",
        "\n",
        "        if i % 500 == 0:\n",
        "            print(f\"Processed {i} records...\")\n",
        "\n",
        "print(\"Extraction complete. File saved to Google Drive.\")"
      ],
      "metadata": {
        "id": "uNGAA8B0k7Mn"
      },
      "execution_count": null,
      "outputs": []
    },
    {
      "cell_type": "code",
      "source": [],
      "metadata": {
        "id": "8HEie_zNk995"
      },
      "execution_count": null,
      "outputs": []
    }
  ]
}